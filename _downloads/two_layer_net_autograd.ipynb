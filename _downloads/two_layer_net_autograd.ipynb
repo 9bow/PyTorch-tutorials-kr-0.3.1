{
  "cells": [
    {
      "cell_type": "code",
      "execution_count": null,
      "metadata": {
        "collapsed": false
      },
      "outputs": [],
      "source": [
        "%matplotlib inline"
      ]
    },
    {
      "cell_type": "markdown",
      "metadata": {},
      "source": [
        "\nPyTorch: Variable\uacfc autograd\n-----------------------------\n\n\ud558\ub098\uc758 \uc740\ub2c9 \uacc4\uce35(Hidden Layer)\uacfc \ud3b8\ud5a5(Bias)\uc774 \uc5c6\ub294 \uc644\uc804\ud788 \uc5f0\uacb0\ub41c ReLU \uc2e0\uacbd\ub9dd\uc5d0\n\uc720\ud074\ub9ac\ub4dc \uac70\ub9ac(Euclidean Distance)\uc758 \uc81c\uacf1\uc744 \ucd5c\uc18c\ud654\ud558\uc5ec x\ub85c\ubd80\ud130 y\ub97c \uc608\uce21\ud558\ub3c4\ub85d\n\ud559\uc2b5\ud558\uaca0\uc2b5\ub2c8\ub2e4.\n\nPyTorch Variable \uc5f0\uc0b0\uc744 \uc774\uc6a9\ud558\uc5ec \uc21c\uc804\ud30c\ub97c \uacc4\uc0b0\ud558\uace0, PyTorch autograd\ub97c \uc774\uc6a9\ud558\uc5ec\n\ubcc0\ud654\ub3c4(Gradient)\ub97c \uacc4\uc0b0\ud558\ub294 \uac83\uc744 \uad6c\ud604\ud558\uaca0\uc2b5\ub2c8\ub2e4.\n\nPyTorch Variable\uc740 PyTorch Tensor\uc758 \ub798\ud37c(Wrapper)\uc774\uba70, \uc5f0\uc0b0 \uadf8\ub798\ud504(Computational\nGraph)\uc5d0\uc11c \ub178\ub4dc(Node)\ub85c \ud45c\ud604(represent)\ub429\ub2c8\ub2e4. x\uac00 Variable\uc77c \ub54c, x.data\ub294 \uadf8 \uac12\uc744\n\uac16\ub294 Tensor\uc774\uba70 x.grad\ub294 \uc5b4\ub5a4 \uc2a4\uce7c\ub77c \uac12\uc5d0 \ub300\ud574 x\uc758 \ubcc0\ud654\ub3c4\ub97c \uac16\ub294 \ub610 \ub2e4\ub978 Variable\n\uc785\ub2c8\ub2e4.\n\nPyTorch Variable\uc740 PyTorch Tensor\uc640 \ub3d9\uc77c\ud55c API\ub97c \uc81c\uacf5\ud569\ub2c8\ub2e4: Tensor\uc5d0\uc11c \ud560 \uc218 \uc788\ub294\n(\uac70\uc758) \ubaa8\ub4e0 \uc5f0\uc0b0\uc740 Variable\uc5d0\uc11c\ub3c4 \ud560 \uc218 \uc788\uc2b5\ub2c8\ub2e4; \ucc28\uc774\uc810\uc740 autograd\uac00 \uc790\ub3d9\uc73c\ub85c\n\ubcc0\ud654\ub3c4\ub97c \uacc4\uc0b0\ud560 \uc218 \uc788\ub2e4\ub294 \uac83\uc785\ub2c8\ub2e4.\n\n"
      ]
    },
    {
      "cell_type": "code",
      "execution_count": null,
      "metadata": {
        "collapsed": false
      },
      "outputs": [],
      "source": [
        "import torch\nfrom torch.autograd import Variable\n\ndtype = torch.FloatTensor\n# dtype = torch.cuda.FloatTensor # GPU\uc5d0\uc11c \uc2e4\ud589\ud558\ub824\uba74 \uc774 \uc8fc\uc11d\uc744 \uc81c\uac70\ud558\uc138\uc694.\n\n# N\uc740 \ubc30\uce58 \ud06c\uae30\uc774\uba70, D_in\uc740 \uc785\ub825\uc758 \ucc28\uc6d0\uc785\ub2c8\ub2e4;\n# H\ub294 \uc740\ub2c9 \uacc4\uce35\uc758 \ucc28\uc6d0\uc774\uba70, D_out\uc740 \ucd9c\ub825 \ucc28\uc6d0\uc785\ub2c8\ub2e4:\nN, D_in, H, D_out = 64, 1000, 100, 10\n\n# \uc785\ub825\uacfc \ucd9c\ub825\uc744 \uc800\uc7a5\ud558\uae30 \uc704\ud574 \ubb34\uc791\uc704 \uac12\uc744 \uac16\ub294 Tensor\ub97c \uc0dd\uc131\ud558\uace0, Variable\ub85c\n# \uac10\uc309\ub2c8\ub2e4. requires_grade=False\ub85c \uc124\uc815\ud558\uc5ec \uc5ed\uc804\ud30c \uc911\uc5d0 \uc774 Variable\ub4e4\uc5d0 \ub300\ud55c\n# \ubcc0\ud654\ub3c4\ub97c \uacc4\uc0b0\ud560 \ud544\uc694\uac00 \uc5c6\uc74c\uc744 \ub098\ud0c0\ub0c5\ub2c8\ub2e4.\nx = Variable(torch.randn(N, D_in).type(dtype), requires_grad=False)\ny = Variable(torch.randn(N, D_out).type(dtype), requires_grad=False)\n\n# \uac00\uc911\uce58\ub97c \uc800\uc7a5\ud558\uae30 \uc704\ud574 \ubb34\uc791\uc704 \uac12\uc744 \uac16\ub294 Tensor\ub97c \uc0dd\uc131\ud558\uace0, Variable\ub85c\n# \uac10\uc309\ub2c8\ub2e4. requires_grad=True\ub85c \uc124\uc815\ud558\uc5ec \uc5ed\uc804\ud30c \uc911\uc5d0 \uc774 Variable\ub4e4\uc5d0 \ub300\ud55c\n# \ubcc0\ud654\ub3c4\ub97c \uacc4\uc0b0\ud560 \ud544\uc694\uac00 \uc788\uc74c\uc744 \ub098\ud0c0\ub0c5\ub2c8\ub2e4.\nw1 = Variable(torch.randn(D_in, H).type(dtype), requires_grad=True)\nw2 = Variable(torch.randn(H, D_out).type(dtype), requires_grad=True)\n\nlearning_rate = 1e-6\nfor t in range(500):\n    # \uc21c\uc804\ud30c \ub2e8\uacc4: Variable \uc5f0\uc0b0\uc744 \uc774\uc6a9\ud558\uc5ec y \uac12\uc744 \uc608\uce21\ud569\ub2c8\ub2e4. \uc774\ub294 Tensor\ub97c \uc774\uc6a9\ud55c\n    # \uc21c\uc804\ud30c \ub2e8\uacc4\uc640 \uc644\uc804\ud788 \ub3d9\uc77c\ud558\uc9c0\ub9cc, \uc5ed\uc804\ud30c \ub2e8\uacc4\ub97c \ubcc4\ub3c4\ub85c \uad6c\ud604\ud558\uc9c0 \uc54a\uae30 \uc704\ud574 \uc911\uac04\n    # \uac12\ub4e4(Intermediate Value)\uc5d0 \ub300\ud55c \ucc38\uc870(Reference)\ub97c \uac16\uace0 \uc788\uc744 \ud544\uc694\uac00 \uc5c6\uc2b5\ub2c8\ub2e4.\n    y_pred = x.mm(w1).clamp(min=0).mm(w2)\n\n    # Variable \uc5f0\uc0b0\uc744 \uc774\uc6a9\ud558\uc5ec \uc190\uc2e4\uc744 \uacc4\uc0b0\ud558\uace0 \ucd9c\ub825\ud569\ub2c8\ub2e4.\n    # loss\ub294 (1,) \ubaa8\uc591\uc744 \uac16\ub294 Variable\uc774\uba70, loss.data\ub294 (1,) \ubaa8\uc591\uc758 Tensor\uc785\ub2c8\ub2e4;\n    # loss.data[0]\uc740 \uc190\uc2e4(loss)\uc758 \uc2a4\uce7c\ub77c \uac12\uc785\ub2c8\ub2e4.\n    loss = (y_pred - y).pow(2).sum()\n    print(t, loss.data[0])\n\n    # autograde\ub97c \uc0ac\uc6a9\ud558\uc5ec \uc5ed\uc804\ud30c \ub2e8\uacc4\ub97c \uacc4\uc0b0\ud569\ub2c8\ub2e4. \uc774\ub294 requires_grad=True\ub97c\n    # \uac16\ub294 \ubaa8\ub4e0 Variable\uc5d0 \ub300\ud55c \uc190\uc2e4\uc758 \ubcc0\ud654\ub3c4\ub97c \uacc4\uc0b0\ud569\ub2c8\ub2e4. \uc774\ud6c4 w1.grad\uc640 w2.grad\ub294\n    # w1\uacfc w2 \uac01\uac01\uc5d0 \ub300\ud55c \uc190\uc2e4\uc758 \ubcc0\ud654\ub3c4\ub97c \uac16\ub294 Variable\uc774 \ub429\ub2c8\ub2e4.\n    loss.backward()\n\n    # \uacbd\uc0ac\ud558\uac15\ubc95(Gradient Descent)\uc744 \uc774\uc6a9\ud558\uc5ec \uac00\uc911\uce58\ub97c \uac31\uc2e0\ud569\ub2c8\ub2e4; w1.data\uc640\n    # w2.data\ub294 Tensor\uc774\uba70, w1.grad\uc640 w2.grad\ub294 Variable\uc774\uace0, w1.grad.data\uc640\n    # w2.grad.data\ub294 Tensor\uc785\ub2c8\ub2e4.\n    w1.data -= learning_rate * w1.grad.data\n    w2.data -= learning_rate * w2.grad.data\n\n    # \uac00\uc911\uce58 \uac31\uc2e0 \ud6c4\uc5d0\ub294 \uc218\ub3d9\uc73c\ub85c \ubcc0\ud654\ub3c4\ub97c 0\uc73c\ub85c \ub9cc\ub4ed\ub2c8\ub2e4.\n    w1.grad.data.zero_()\n    w2.grad.data.zero_()"
      ]
    }
  ],
  "metadata": {
    "kernelspec": {
      "display_name": "Python 3",
      "language": "python",
      "name": "python3"
    },
    "language_info": {
      "codemirror_mode": {
        "name": "ipython",
        "version": 3
      },
      "file_extension": ".py",
      "mimetype": "text/x-python",
      "name": "python",
      "nbconvert_exporter": "python",
      "pygments_lexer": "ipython3",
      "version": "3.6.0"
    }
  },
  "nbformat": 4,
  "nbformat_minor": 0
}