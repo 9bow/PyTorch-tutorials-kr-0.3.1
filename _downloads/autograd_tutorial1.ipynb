{
  "cells": [
    {
      "cell_type": "code",
      "execution_count": null,
      "metadata": {
        "collapsed": false
      },
      "outputs": [],
      "source": [
        "%matplotlib inline"
      ]
    },
    {
      "cell_type": "markdown",
      "metadata": {},
      "source": [
        "\nAutograd\n========\n\nAutograd\ub294 \uc790\ub3d9 \ubbf8\ubd84\uc744 \uc218\ud589\ud558\ub294 torch\uc758 \ud575\uc2ec \ud328\ud0a4\uc9c0\ub85c, \uc790\ub3d9 \ubbf8\ubd84\uc744 \uc704\ud574\n\ud14c\uc78e(tape) \uae30\ubc18 \uc2dc\uc2a4\ud15c\uc744 \uc0ac\uc6a9\ud569\ub2c8\ub2e4.\n\n\uc21c\uc804\ud30c(forward) \ub2e8\uacc4\uc5d0\uc11c autograd \ud14c\uc78e\uc740 \uc218\ud589\ud558\ub294 \ubaa8\ub4e0 \uc5f0\uc0b0\uc744 \uae30\uc5b5\ud569\ub2c8\ub2e4.\n\uadf8\ub9ac\uace0, \uc5ed\uc804\ud30c(backward) \ub2e8\uacc4\uc5d0\uc11c \uc5f0\uc0b0\ub4e4\uc744 \uc7ac\uc0dd(replay)\ud569\ub2c8\ub2e4.\n\n\ubcc0\uc218(Variable)\n--------------\n\nAutograd\uc5d0\uc11c \uc6b0\ub9ac\ub294 ``Variable`` \ud074\ub798\uc2a4\ub97c \ub9cc\ub098\ubcfc \uc218 \uc788\ub294\ub370\uc694, \uc774\ub294\n``Tensor`` \ub97c \ub9e4\uc6b0 \uc587\uac8c \uac10\uc2f8\uace0(wrapper) \uc788\uc2b5\ub2c8\ub2e4.\n``.data`` \uc18d\uc131\uc744 \uc774\uc6a9\ud558\uc5ec tensor \uc790\uccb4(raw tensor)\uc5d0 \uc811\uadfc\ud560 \uc218 \uc788\uc73c\uba70,\n\uc5ed\uc804\ud30c \uc5f0\uc0b0\uc774 \ub05d\ub098\uace0 \ub098\uba74, \uc774 \ubcc0\uc218\uc5d0 \ub300\ud55c \ubcc0\ud654\ub3c4(gradient)\ub294 ``.grad`` \uc5d0\n\ub204\uc801\ub429\ub2c8\ub2e4.\n\n.. figure:: /_static/img/Variable.png\n   :alt: Variable\n\n   Variable\n\nAutograd \uad6c\ud604\uc5d0\uc11c \ub9e4\uc6b0 \uc911\uc694\ud55c \ud074\ub798\uc2a4\uac00 \ud558\ub098 \ub354 \uc788\ub294\ub370\uc694, \ubc14\ub85c ``Function`` \ud074\ub798\uc2a4\uc785\ub2c8\ub2e4.\n``Variable`` \uacfc ``Function`` \uc740 \uc0c1\ud638 \uc5f0\uacb0\ub418\uc5b4 \uc788\uc73c\uba70,\n\ubaa8\ub4e0 \uc5f0\uc0b0 \uacfc\uc815\uc744 \ubd80\ud638\ud654(encode)\ud558\uc5ec \uc21c\ud658\ud558\uc9c0 \uc54a\uc740 \uadf8\ub798\ud504(acyclic graph)\ub97c \uc0dd\uc131\ud569\ub2c8\ub2e4.\n\uac01 \ubcc0\uc218\ub294 ``.grad_fn`` \uc18d\uc131\uc744 \uac16\uace0 \uc788\ub294\ub370, \uc774\ub294 ``Variable`` \uc744 \uc0dd\uc131\ud55c ``Function`` \uc744\n\ucc38\uc870\ud558\uace0 \uc788\uc2b5\ub2c8\ub2e4. (\ub2e8, \uc0ac\uc6a9\uc790\uac00 \ub9cc\ub4e0 Variable\uc740 \uc608\uc678\ub85c, \uc774 \ub54c ``grad_fn`` \uc740\n``None`` \uc785\ub2c8\ub2e4.)\n\n\ub3c4\ud568\uc218\ub97c \uacc4\uc0b0\ud558\uae30 \uc704\ud574\uc11c\ub294, ``Variable`` \uc758 ``.backward()`` \ub97c \ud638\ucd9c\ud558\uba74 \ub429\ub2c8\ub2e4.\n``Variable`` \uc774 \uc2a4\uce7c\ub77c(scalar)\uc778 \uacbd\uc6b0(\uc608. \ud558\ub098\uc758 \uc694\uc18c\ub9cc \uac16\ub294 \ub4f1)\uc5d0\ub294, ``backward`` \uc5d0\n\uc778\uc790\ub97c \uc815\ud574\uc904 \ud544\uc694\uac00 \uc5c6\uc2b5\ub2c8\ub2e4. \ud558\uc9c0\ub9cc \uc5ec\ub7ec \uac1c\uc758 \uc694\uc18c\ub97c \uac16\uace0 \uc788\uc744\n\ub54c\ub294 tensor\uc758 \ubaa8\uc591\uc744 ``gradient`` \uc758 \uc778\uc790\ub85c \uc9c0\uc815\ud560 \ud544\uc694\uac00 \uc788\uc2b5\ub2c8\ub2e4.\n\n"
      ]
    },
    {
      "cell_type": "code",
      "execution_count": null,
      "metadata": {
        "collapsed": false
      },
      "outputs": [],
      "source": [
        "import torch\nfrom torch.autograd import Variable\nx = Variable(torch.ones(2, 2), requires_grad=True)\nprint(x)  # notice the \"Variable containing\" line"
      ]
    },
    {
      "cell_type": "code",
      "execution_count": null,
      "metadata": {
        "collapsed": false
      },
      "outputs": [],
      "source": [
        "print(x.data)"
      ]
    },
    {
      "cell_type": "code",
      "execution_count": null,
      "metadata": {
        "collapsed": false
      },
      "outputs": [],
      "source": [
        "print(x.grad)"
      ]
    },
    {
      "cell_type": "code",
      "execution_count": null,
      "metadata": {
        "collapsed": false
      },
      "outputs": [],
      "source": [
        "print(x.grad_fn)  # we've created x ourselves"
      ]
    },
    {
      "cell_type": "markdown",
      "metadata": {},
      "source": [
        "\ubcc0\uc218 x\uc5d0 \uc5f0\uc0b0\uc744 \uc218\ud589\ud569\ub2c8\ub2e4:\n\n"
      ]
    },
    {
      "cell_type": "code",
      "execution_count": null,
      "metadata": {
        "collapsed": false
      },
      "outputs": [],
      "source": [
        "y = x + 2\nprint(y)"
      ]
    },
    {
      "cell_type": "markdown",
      "metadata": {},
      "source": [
        "y \ub294 \uc5f0\uc0b0\uc758 \uacb0\uacfc\ub85c \uc0dd\uc131\ub41c \uac83\uc774\ubbc0\ub85c, grad_fn \uc744 \uac16\uc2b5\ub2c8\ub2e4.\n\n"
      ]
    },
    {
      "cell_type": "code",
      "execution_count": null,
      "metadata": {
        "collapsed": false
      },
      "outputs": [],
      "source": [
        "print(y.grad_fn)"
      ]
    },
    {
      "cell_type": "markdown",
      "metadata": {},
      "source": [
        "y\uc5d0 \ub2e4\ub978 \uc5f0\uc0b0\uc744 \uc218\ud589\ud569\ub2c8\ub2e4:\n\n"
      ]
    },
    {
      "cell_type": "code",
      "execution_count": null,
      "metadata": {
        "collapsed": false
      },
      "outputs": [],
      "source": [
        "z = y * y * 3\nout = z.mean()\n\nprint(z, out)"
      ]
    },
    {
      "cell_type": "markdown",
      "metadata": {},
      "source": [
        "\ubcc0\ud654\ub3c4(Gradient)\n----------------\n\n\uc774\uc81c \uc5ed\uc804\ud30c(backprop)\ub97c \ud558\uace0 \ubcc0\ud654\ub3c4 d(out)/dx\ub97c \ucd9c\ub825\ud574\ubcf4\uaca0\uc2b5\ub2c8\ub2e4.\n\n"
      ]
    },
    {
      "cell_type": "code",
      "execution_count": null,
      "metadata": {
        "collapsed": false
      },
      "outputs": [],
      "source": [
        "out.backward()\nprint(x.grad)"
      ]
    },
    {
      "cell_type": "markdown",
      "metadata": {},
      "source": [
        "\uae30\ubcf8\uc801\uc73c\ub85c \ubcc0\ud654\ub3c4 \uc5f0\uc0b0\uc740 \uadf8\ub798\ud504 \uc0c1\uc758 \ubaa8\ub4e0 \ub0b4\ubd80 \ubc84\ud37c\ub97c \uc0c8\ub85c \uc4f0\uae30(flush) \ub54c\ubb38\uc5d0,\n\uadf8\ub798\ud504\uc758 \ud2b9\uc815 \ubd80\ubd84\uc5d0 \ub300\ud574\uc11c \uc5ed\uc804\ud30c \uc5f0\uc0b0\uc744 2\ubc88\ud558\uace0 \uc2f6\ub2e4\uba74, \uccab \uc5f0\uc0b0 \ub2e8\uacc4\uc5d0\uc11c\n``retain_variables = True`` \uac12\uc744 \ub118\uaca8\uc918\uc57c \ud569\ub2c8\ub2e4.\n\n"
      ]
    },
    {
      "cell_type": "code",
      "execution_count": null,
      "metadata": {
        "collapsed": false
      },
      "outputs": [],
      "source": [
        "x = Variable(torch.ones(2, 2), requires_grad=True)\ny = x + 2\ny.backward(torch.ones(2, 2), retain_graph=True)\n# retain_variables \ud50c\ub798\uadf8(flag)\ub294 \ub0b4\ubd80 \ubc84\ud37c\uac00 \uc0ac\ub77c\uc9c0\ub294 \uac83\uc744 \ub9c9\uc544\uc90d\ub2c8\ub2e4.\nprint(x.grad)"
      ]
    },
    {
      "cell_type": "code",
      "execution_count": null,
      "metadata": {
        "collapsed": false
      },
      "outputs": [],
      "source": [
        "z = y * y\nprint(z)"
      ]
    },
    {
      "cell_type": "markdown",
      "metadata": {},
      "source": [
        "\ubb34\uc791\uc704 \uac12\uc73c\ub85c \uc5ed\uc804\ud30c\ub97c \ud569\ub2c8\ub2e4.\n\n"
      ]
    },
    {
      "cell_type": "code",
      "execution_count": null,
      "metadata": {
        "collapsed": false
      },
      "outputs": [],
      "source": [
        "gradient = torch.randn(2, 2)\n\n# retain_variable \uc744 \uc9c0\uc815\ud558\uc9c0 \uc54a\uc558\ub2e4\uba74 \uc624\ub958\uac00 \ubc1c\uc0dd\ud560 \uac83\uc785\ub2c8\ub2e4.\ny.backward(gradient)\n\nprint(x.grad)"
      ]
    }
  ],
  "metadata": {
    "kernelspec": {
      "display_name": "Python 3",
      "language": "python",
      "name": "python3"
    },
    "language_info": {
      "codemirror_mode": {
        "name": "ipython",
        "version": 3
      },
      "file_extension": ".py",
      "mimetype": "text/x-python",
      "name": "python",
      "nbconvert_exporter": "python",
      "pygments_lexer": "ipython3",
      "version": "3.6.0"
    }
  },
  "nbformat": 4,
  "nbformat_minor": 0
}