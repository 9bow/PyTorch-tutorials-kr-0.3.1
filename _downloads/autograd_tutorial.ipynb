{
  "cells": [
    {
      "cell_type": "code",
      "execution_count": null,
      "metadata": {
        "collapsed": false
      },
      "outputs": [],
      "source": [
        "%matplotlib inline"
      ]
    },
    {
      "cell_type": "markdown",
      "metadata": {},
      "source": [
        "\nAutograd: \uc790\ub3d9 \ubbf8\ubd84\n===================================\n\nPyTorch\uc758 \ubaa8\ub4e0 \uc2e0\uacbd\ub9dd\uc758 \uc911\uc2ec\uc5d0\ub294 ``autograd`` \ud328\ud0a4\uc9c0\uac00 \uc788\uc2b5\ub2c8\ub2e4.\n\uba3c\uc800 \uc774\uac83\uc744 \uac00\ubccd\uac8c \uc0b4\ud3b4\ubcf8 \ub4a4, \uccab\ubc88\uc9f8 \uc2e0\uacbd\ub9dd\uc744 \ud559\uc2b5\uc2dc\ucf1c\ubcf4\uaca0\uc2b5\ub2c8\ub2e4.\n\n\n``autograd`` \ud328\ud0a4\uc9c0\ub294 Tensor\uc758 \ubaa8\ub4e0 \uc5f0\uc0b0\uc5d0 \ub300\ud574 \uc790\ub3d9 \ubbf8\ubd84\uc744 \uc81c\uacf5\ud569\ub2c8\ub2e4.\n\uc774\ub294 \uc2e4\ud589-\uae30\ubc18-\uc815\uc758(define-by-run) \ud504\ub808\uc784\uc6cc\ud06c\ub85c, \uc774\ub294 \ucf54\ub4dc\ub97c \uc5b4\ub5bb\uac8c \uc791\uc131\ud558\uc5ec \uc2e4\ud589\ud558\ub290\ub0d0\uc5d0\n\ub530\ub77c \uc5ed\uc804\ud30c\uac00 \uc815\uc758\ub41c\ub2e4\ub294 \ub73b\uc774\uba70, \uc5ed\uc804\ud30c\ub294 \ud559\uc2b5 \uacfc\uc815\uc758 \ub9e4 \ub2e8\uacc4\ub9c8\ub2e4 \ub2ec\ub77c\uc9d1\ub2c8\ub2e4.\n\n\n\uc880 \ub354 \uac04\ub2e8\ud55c \uc6a9\uc5b4\ub85c \uba87 \uac00\uc9c0 \uc608\ub97c \ubcf4\uc774\uaca0\uc2b5\ub2c8\ub2e4.\n\n\ubcc0\uc218(Variable)\n--------------\n\n\ud328\ud0a4\uc9c0\uc758 \uc911\uc2ec\uc5d0\ub294 ``autograd.Variable`` \ud074\ub798\uc2a4\uac00 \uc788\uc2b5\ub2c8\ub2e4. \uc774\ub294 Tensor\ub97c\n\uac10\uc2f8\uace0(wrap) \uc788\uc73c\uba70, Tensor \uae30\ubc18\uc73c\ub85c \uc815\uc758\ub41c \uac70\uc758 \ub300\ubd80\ubd84\uc758 \uc5f0\uc0b0\uc744 \uc9c0\uc6d0\ud569\ub2c8\ub2e4.\n\uacc4\uc0b0\uc774 \uc644\ub8cc\ub41c \ud6c4 ``.backward()`` \ub97c \ud638\ucd9c\ud558\uc5ec \ubaa8\ub4e0 \ubcc0\ud654\ub3c4(gradient)\uc744 \uc790\ub3d9\uc73c\ub85c\n\uacc4\uc0b0\ud560 \uc218 \uc788\uc2b5\ub2c8\ub2e4.\n\n``.data`` \uc18d\uc131\uc744 \uc0ac\uc6a9\ud558\uc5ec tensor \uc790\uccb4(raw tensor)\uc5d0 \uc811\uadfc\ud560 \uc218 \uc788\uc73c\uba70,\n\uc774 \ubcc0\uc218\uc640 \uad00\ub828\ub41c \ubcc0\ud654\ub3c4\ub294 ``.grad`` \uc5d0 \ub204\uc801\ub429\ub2c8\ub2e4.\n\n.. figure:: /_static/img/Variable.png\n   :alt: Variable\n\n   Variable\n\nAutograd \uad6c\ud604\uc5d0\uc11c \ub9e4\uc6b0 \uc911\uc694\ud55c \ud074\ub798\uc2a4\uac00 \ud558\ub098 \ub354 \uc788\ub294\ub370\uc694, \ubc14\ub85c ``Function`` \ud074\ub798\uc2a4\uc785\ub2c8\ub2e4.\n\n``Variable`` \uacfc ``Function`` \uc740 \uc0c1\ud638 \uc5f0\uacb0\ub418\uc5b4 \uc788\uc73c\uba70,\n\ubaa8\ub4e0 \uc5f0\uc0b0 \uacfc\uc815\uc744 \ubd80\ud638\ud654(encode)\ud558\uc5ec \uc21c\ud658\ud558\uc9c0 \uc54a\uc740 \uadf8\ub798\ud504(acyclic graph)\ub97c \uc0dd\uc131\ud569\ub2c8\ub2e4.\n\uac01 \ubcc0\uc218\ub294 ``.grad_fn`` \uc18d\uc131\uc744 \uac16\uace0 \uc788\ub294\ub370, \uc774\ub294 ``Variable`` \uc744 \uc0dd\uc131\ud55c ``Function`` \uc744\n\ucc38\uc870\ud558\uace0 \uc788\uc2b5\ub2c8\ub2e4. (\ub2e8, \uc0ac\uc6a9\uc790\uac00 \ub9cc\ub4e0 Variable\uc740 \uc608\uc678\ub85c, \uc774 \ub54c ``grad_fn`` \uc740\n``None`` \uc785\ub2c8\ub2e4.)\n\n\ub3c4\ud568\uc218\ub97c \uacc4\uc0b0\ud558\uae30 \uc704\ud574\uc11c\ub294, ``Variable`` \uc758 ``.backward()`` \ub97c \ud638\ucd9c\ud558\uba74 \ub429\ub2c8\ub2e4.\n``Variable`` \uc774 \uc2a4\uce7c\ub77c(scalar)\uc778 \uacbd\uc6b0(\uc608. \ud558\ub098\uc758 \uc694\uc18c\ub9cc \uac16\ub294 \ub4f1)\uc5d0\ub294, ``backward`` \uc5d0\n\uc778\uc790\ub97c \uc815\ud574\uc904 \ud544\uc694\uac00 \uc5c6\uc2b5\ub2c8\ub2e4. \ud558\uc9c0\ub9cc \uc5ec\ub7ec \uac1c\uc758 \uc694\uc18c\ub97c \uac16\uace0 \uc788\uc744\n\ub54c\ub294 tensor\uc758 \ubaa8\uc591\uc744 ``gradient`` \uc758 \uc778\uc790\ub85c \uc9c0\uc815\ud560 \ud544\uc694\uac00 \uc788\uc2b5\ub2c8\ub2e4.\n\n"
      ]
    },
    {
      "cell_type": "code",
      "execution_count": null,
      "metadata": {
        "collapsed": false
      },
      "outputs": [],
      "source": [
        "import torch\nfrom torch.autograd import Variable"
      ]
    },
    {
      "cell_type": "markdown",
      "metadata": {},
      "source": [
        "\ubcc0\uc218\ub97c \uc0dd\uc131\ud569\ub2c8\ub2e4:\n\n"
      ]
    },
    {
      "cell_type": "code",
      "execution_count": null,
      "metadata": {
        "collapsed": false
      },
      "outputs": [],
      "source": [
        "x = Variable(torch.ones(2, 2), requires_grad=True)\nprint(x)"
      ]
    },
    {
      "cell_type": "markdown",
      "metadata": {},
      "source": [
        "\ubcc0\uc218\uc5d0 \uc5f0\uc0b0\uc744 \uc218\ud589\ud569\ub2c8\ub2e4:\n\n"
      ]
    },
    {
      "cell_type": "code",
      "execution_count": null,
      "metadata": {
        "collapsed": false
      },
      "outputs": [],
      "source": [
        "y = x + 2\nprint(y)"
      ]
    },
    {
      "cell_type": "markdown",
      "metadata": {},
      "source": [
        "``y`` \ub294 \uc5f0\uc0b0\uc758 \uacb0\uacfc\ub85c \uc0dd\uc131\ub41c \uac83\uc774\ubbc0\ub85c, ``grad_fn`` \uc744 \uac16\uc2b5\ub2c8\ub2e4.\n\n"
      ]
    },
    {
      "cell_type": "code",
      "execution_count": null,
      "metadata": {
        "collapsed": false
      },
      "outputs": [],
      "source": [
        "print(y.grad_fn)"
      ]
    },
    {
      "cell_type": "markdown",
      "metadata": {},
      "source": [
        "y\uc5d0 \ub2e4\ub978 \uc5f0\uc0b0\uc744 \uc218\ud589\ud569\ub2c8\ub2e4:\n\n"
      ]
    },
    {
      "cell_type": "code",
      "execution_count": null,
      "metadata": {
        "collapsed": false
      },
      "outputs": [],
      "source": [
        "z = y * y * 3\nout = z.mean()\n\nprint(z, out)"
      ]
    },
    {
      "cell_type": "markdown",
      "metadata": {},
      "source": [
        "\ubcc0\ud654\ub3c4(Gradient)\n----------------\n\uc774\uc81c \uc5ed\uc804\ud30c(backprop)\ub97c \ud574\ubcf4\uaca0\uc2b5\ub2c8\ub2e4.\n``out.backward()`` \ub294 ``out.backward(torch.Tensor([1.0]))`` \ub97c \ud558\ub294 \uac83\uacfc \ub611\uac19\uc2b5\ub2c8\ub2e4.\n\n"
      ]
    },
    {
      "cell_type": "code",
      "execution_count": null,
      "metadata": {
        "collapsed": false
      },
      "outputs": [],
      "source": [
        "out.backward()"
      ]
    },
    {
      "cell_type": "markdown",
      "metadata": {},
      "source": [
        "\ubcc0\ud654\ub3c4 d(out)/dx\ub97c \ucd9c\ub825\ud569\ub2c8\ub2e4.\n\n\n"
      ]
    },
    {
      "cell_type": "code",
      "execution_count": null,
      "metadata": {
        "collapsed": false
      },
      "outputs": [],
      "source": [
        "print(x.grad)"
      ]
    },
    {
      "cell_type": "markdown",
      "metadata": {},
      "source": [
        "``4.5`` \ub85c \uc774\ub8e8\uc5b4\uc9c4 \ud589\ub82c\uc774 \ubcf4\uc77c \uac83\uc785\ub2c8\ub2e4. ``out`` \uc744 *\ubcc0\uc218* \u201c$o$\u201d \ub77c\uace0 \ud558\uba74,\n\ub2e4\uc74c\uacfc \uac19\uc774 \uad6c\ud560 \uc218 \uc788\uc2b5\ub2c8\ub2e4.\n$o = \\frac{1}{4}\\sum_i z_i$,\n$z_i = 3(x_i+2)^2$ \uc774\uace0 $z_i\\bigr\\rvert_{x_i=1} = 27$ \uc785\ub2c8\ub2e4.\n\ub530\ub77c\uc11c,\n$\\frac{\\partial o}{\\partial x_i} = \\frac{3}{2}(x_i+2)$ \uc774\ubbc0\ub85c,\n$\\frac{\\partial o}{\\partial x_i}\\bigr\\rvert_{x_i=1} = \\frac{9}{2} = 4.5$.\n\n"
      ]
    },
    {
      "cell_type": "markdown",
      "metadata": {},
      "source": [
        "autograd\ub85c \ub9ce\uc740 \uc815\uc2e0\ub098\uac04 \uc77c\ub4e4(crazy things)\ub3c4 \ud560 \uc218 \uc788\uc2b5\ub2c8\ub2e4!\n\n"
      ]
    },
    {
      "cell_type": "code",
      "execution_count": null,
      "metadata": {
        "collapsed": false
      },
      "outputs": [],
      "source": [
        "x = torch.randn(3)\nx = Variable(x, requires_grad=True)\n\ny = x * 2\nwhile y.data.norm() < 1000:\n    y = y * 2\n\nprint(y)"
      ]
    },
    {
      "cell_type": "code",
      "execution_count": null,
      "metadata": {
        "collapsed": false
      },
      "outputs": [],
      "source": [
        "gradients = torch.FloatTensor([0.1, 1.0, 0.0001])\ny.backward(gradients)\n\nprint(x.grad)"
      ]
    },
    {
      "cell_type": "markdown",
      "metadata": {},
      "source": [
        "**\ub354 \uc77d\uc744\uac70\ub9ac:**\n\n``Variable`` \uacfc ``Function`` \uad00\ub828 \ubb38\uc11c\ub294 http://pytorch.org/docs/autograd \uc5d0 \uc788\uc2b5\ub2c8\ub2e4.\n\n"
      ]
    }
  ],
  "metadata": {
    "kernelspec": {
      "display_name": "Python 3",
      "language": "python",
      "name": "python3"
    },
    "language_info": {
      "codemirror_mode": {
        "name": "ipython",
        "version": 3
      },
      "file_extension": ".py",
      "mimetype": "text/x-python",
      "name": "python",
      "nbconvert_exporter": "python",
      "pygments_lexer": "ipython3",
      "version": "3.6.0"
    }
  },
  "nbformat": 4,
  "nbformat_minor": 0
}