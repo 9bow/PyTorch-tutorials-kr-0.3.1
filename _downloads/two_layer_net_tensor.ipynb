{
  "cells": [
    {
      "cell_type": "code",
      "execution_count": null,
      "metadata": {
        "collapsed": false
      },
      "outputs": [],
      "source": [
        "%matplotlib inline"
      ]
    },
    {
      "cell_type": "markdown",
      "metadata": {},
      "source": [
        "\nPyTorch: Tensor\n----------------\n\n\ud558\ub098\uc758 \uc740\ub2c9 \uacc4\uce35\uacfc \ud3b8\ud5a5(Bias)\uc774 \uc5c6\ub294 \uc644\uc804\ud788 \uc5f0\uacb0\ub41c ReLU \uc2e0\uacbd\ub9dd\uc5d0 \uc720\ud074\ub9ac\ub4dc\n\uac70\ub9ac(Euclidean Distance)\uc758 \uc81c\uacf1\uc744 \ucd5c\uc18c\ud654\ud558\uc5ec x\ub85c\ubd80\ud130 y\ub97c \uc608\uce21\ud558\ub3c4\ub85d \ud559\uc2b5\ud558\uaca0\uc2b5\ub2c8\ub2e4.\n\nPyTorch tensor\ub97c \uc0ac\uc6a9\ud558\uc5ec \uc218\ub3d9\uc73c\ub85c \uc21c\uc804\ud30c, \uc190\uc2e4(loss), \uadf8\ub9ac\uace0 \uc5ed\uc804\ud30c \uc5f0\uc0b0\uc744 \ud558\ub294\n\uac83\uc744 \uad6c\ud604\ud574\ubcf4\uaca0\uc2b5\ub2c8\ub2e4.\n\nPyTorch Tensor\ub294 \uae30\ubcf8\uc801\uc73c\ub85c NumPy \ubc30\uc5f4\uacfc \ub3d9\uc77c\ud569\ub2c8\ub2e4; \ub525\ub7ec\ub2dd\uc774\ub098 \uc5f0\uc0b0 \uadf8\ub798\ud504\n(Computational Graph), \ubcc0\ud654\ub3c4(Gradient)\ub294 \uc54c\uc9c0 \ubabb\ud558\uba70 \uc784\uc758\uc758 \uc22b\uc790 \uacc4\uc0b0\uc5d0 \uc0ac\uc6a9\ud558\ub294\n\uc77c\ubc18\uc801\uc778 N\ucc28\uc6d0 \ubc30\uc5f4\uc785\ub2c8\ub2e4.\n\nNumPy \ubc30\uc5f4\uacfc PyTorch Tensor\uc758 \uac00\uc7a5 \ud070 \ucc28\uc774\uc810\uc740 PyTorch Tensor\ub294 CPU\ub098 GPU \uc5b4\ub514\uc11c\ub4e0\n\uc2e4\ud589\uc774 \uac00\ub2a5\ud558\ub2e4\ub294 \uc810\uc785\ub2c8\ub2e4. GPU\uc5d0\uc11c \uc5f0\uc0b0\uc744 \ud558\uae30 \uc704\ud574\uc11c\ub294, Tensor\ub97c CUDA \uc790\ub8cc\ud615\uc73c\ub85c\n\ubcc0\ud658(Cast)\ud574\uc8fc\uae30\ub9cc \ud558\uba74 \ub429\ub2c8\ub2e4.\n\n"
      ]
    },
    {
      "cell_type": "code",
      "execution_count": null,
      "metadata": {
        "collapsed": false
      },
      "outputs": [],
      "source": [
        "import torch\n\n\ndtype = torch.FloatTensor\n# dtype = torch.cuda.FloatTensor # GPU\uc5d0\uc11c \uc2e4\ud589\ud558\ub824\uba74 \uc774 \uc8fc\uc11d\uc744 \uc81c\uac70\ud558\uc138\uc694.\n\n# N\uc740 \ubc30\uce58 \ud06c\uae30\uc774\uba70, D_in\uc740 \uc785\ub825\uc758 \ucc28\uc6d0\uc785\ub2c8\ub2e4;\n# H\ub294 \uc740\ub2c9 \uacc4\uce35\uc758 \ucc28\uc6d0\uc774\uba70, D_out\uc740 \ucd9c\ub825 \ucc28\uc6d0\uc785\ub2c8\ub2e4:\nN, D_in, H, D_out = 64, 1000, 100, 10\n\n# \ubb34\uc791\uc704\uc758 \uc785\ub825\uacfc \ucd9c\ub825 \ub370\uc774\ud130\ub97c \uc0dd\uc131\ud569\ub2c8\ub2e4.\nx = torch.randn(N, D_in).type(dtype)\ny = torch.randn(N, D_out).type(dtype)\n\n# \ubb34\uc791\uc704\ub85c \uac00\uc911\uce58\ub97c \ucd08\uae30\ud654\ud569\ub2c8\ub2e4.\nw1 = torch.randn(D_in, H).type(dtype)\nw2 = torch.randn(H, D_out).type(dtype)\n\nlearning_rate = 1e-6\nfor t in range(500):\n    # \uc21c\uc804\ud30c \ub2e8\uacc4: \uc608\uce21\uac12 y\ub97c \uacc4\uc0b0\ud569\ub2c8\ub2e4.\n    h = x.mm(w1)\n    h_relu = h.clamp(min=0)\n    y_pred = h_relu.mm(w2)\n\n    # \uc190\uc2e4(loss)\uc744 \uacc4\uc0b0\ud558\uace0 \ucd9c\ub825\ud569\ub2c8\ub2e4.\n    loss = (y_pred - y).pow(2).sum()\n    print(t, loss)\n\n    # \uc190\uc2e4\uc5d0 \ub530\ub978 w1, w2\uc758 \ubcc0\ud654\ub3c4\ub97c \uacc4\uc0b0\ud558\uace0 \uc5ed\uc804\ud30c\ud569\ub2c8\ub2e4.\n    grad_y_pred = 2.0 * (y_pred - y)\n    grad_w2 = h_relu.t().mm(grad_y_pred)\n    grad_h_relu = grad_y_pred.mm(w2.t())\n    grad_h = grad_h_relu.clone()\n    grad_h[h < 0] = 0\n    grad_w1 = x.t().mm(grad_h)\n\n    # \uacbd\uc0ac\ud558\uac15\ubc95(Gradient Descent)\ub97c \uc0ac\uc6a9\ud558\uc5ec \uac00\uc911\uce58\ub97c \uac31\uc2e0\ud569\ub2c8\ub2e4.\n    w1 -= learning_rate * grad_w1\n    w2 -= learning_rate * grad_w2"
      ]
    }
  ],
  "metadata": {
    "kernelspec": {
      "display_name": "Python 3",
      "language": "python",
      "name": "python3"
    },
    "language_info": {
      "codemirror_mode": {
        "name": "ipython",
        "version": 3
      },
      "file_extension": ".py",
      "mimetype": "text/x-python",
      "name": "python",
      "nbconvert_exporter": "python",
      "pygments_lexer": "ipython3",
      "version": "3.6.0"
    }
  },
  "nbformat": 4,
  "nbformat_minor": 0
}