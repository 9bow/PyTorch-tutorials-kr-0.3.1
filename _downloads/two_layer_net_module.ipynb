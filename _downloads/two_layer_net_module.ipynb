{
  "cells": [
    {
      "cell_type": "code",
      "execution_count": null,
      "metadata": {
        "collapsed": false
      },
      "outputs": [],
      "source": [
        "%matplotlib inline"
      ]
    },
    {
      "cell_type": "markdown",
      "metadata": {},
      "source": [
        "\nPyTorch: \uc0ac\uc6a9\uc790 \uc815\uc758 nn \ubaa8\ub4c8\n----------------------------\n\n\ud558\ub098\uc758 \uc740\ub2c9 \uacc4\uce35(Hidden Layer)\uc744 \uac16\ub294 \uc644\uc804\ud788 \uc5f0\uacb0\ub41c ReLU \uc2e0\uacbd\ub9dd\uc5d0 \uc720\ud074\ub9ac\ub4dc\n\uac70\ub9ac(Euclidean Distance)\uc758 \uc81c\uacf1\uc744 \ucd5c\uc18c\ud654\ud558\uc5ec x\ub85c\ubd80\ud130 y\ub97c \uc608\uce21\ud558\ub3c4\ub85d \ud559\uc2b5\ud558\uaca0\uc2b5\ub2c8\ub2e4.\n\n\uc774\ubc88\uc5d0\ub294 \uc0ac\uc6a9\uc790 \uc815\uc758 \ubaa8\ub4c8\uc758 \uc11c\ube0c\ud074\ub798\uc2a4\ub85c \ubaa8\ub378\uc744 \uc815\uc758\ud569\ub2c8\ub2e4. \uae30\uc874 \ubaa8\ub4c8\uc758 \uac04\ub2e8\ud55c\n\uc21c\ucc28\uc801\uc778 \uad6c\uc131\ubcf4\ub2e4 \ub354 \ubcf5\uc7a1\ud55c \ubaa8\ub378\uc744 \uc6d0\ud55c\ub2e4\uba74, \uc774 \ubc29\ubc95\uc73c\ub85c \ubaa8\ub378\uc744 \uc815\uc758\ud558\uba74 \ub429\ub2c8\ub2e4.\n\n"
      ]
    },
    {
      "cell_type": "code",
      "execution_count": null,
      "metadata": {
        "collapsed": false
      },
      "outputs": [],
      "source": [
        "import torch\nfrom torch.autograd import Variable\n\n\nclass TwoLayerNet(torch.nn.Module):\n    def __init__(self, D_in, H, D_out):\n        \"\"\"\n        \uc0dd\uc131\uc790\uc5d0\uc11c 2\uac1c\uc758 nn.Linear \ubaa8\ub4c8\uc744 \uc0dd\uc131(Instantiate)\ud558\uace0, \uba64\ubc84 \ubcc0\uc218\ub85c\n        \uc9c0\uc815\ud569\ub2c8\ub2e4.\n        \"\"\"\n        super(TwoLayerNet, self).__init__()\n        self.linear1 = torch.nn.Linear(D_in, H)\n        self.linear2 = torch.nn.Linear(H, D_out)\n\n    def forward(self, x):\n        \"\"\"\n        \uc21c\uc804\ud30c \ud568\uc218\uc5d0\uc11c\ub294 \uc785\ub825 \ub370\uc774\ud130\uc758 Variable\uc744 \ubc1b\uc544\uc11c \ucd9c\ub825 \ub370\uc774\ud130\uc758 Variable\uc744\n        \ubc18\ud658\ud574\uc57c \ud569\ub2c8\ub2e4. Variable \uc0c1\uc758 \uc784\uc758\uc758 \uc5f0\uc0b0\uc790\ubfd0\ub9cc \uc544\ub2c8\ub77c \uc0dd\uc131\uc790\uc5d0\uc11c \uc815\uc758\ud55c\n        \ubaa8\ub4c8\uc744 \uc0ac\uc6a9\ud560 \uc218 \uc788\uc2b5\ub2c8\ub2e4.\n        \"\"\"\n        h_relu = self.linear1(x).clamp(min=0)\n        y_pred = self.linear2(h_relu)\n        return y_pred\n\n\n# N\uc740 \ubc30\uce58 \ud06c\uae30\uc774\uba70, D_in\uc740 \uc785\ub825\uc758 \ucc28\uc6d0\uc785\ub2c8\ub2e4;\n# H\ub294 \uc740\ub2c9 \uacc4\uce35\uc758 \ucc28\uc6d0\uc774\uba70, D_out\uc740 \ucd9c\ub825 \ucc28\uc6d0\uc785\ub2c8\ub2e4:\nN, D_in, H, D_out = 64, 1000, 100, 10\n\n# \uc785\ub825\uacfc \ucd9c\ub825\uc744 \uc800\uc7a5\ud558\uae30 \uc704\ud574 \ubb34\uc791\uc704 \uac12\uc744 \uac16\ub294 Tensor\ub97c \uc0dd\uc131\ud558\uace0, Variable\ub85c\n# \uac10\uc309\ub2c8\ub2e4.\nx = Variable(torch.randn(N, D_in))\ny = Variable(torch.randn(N, D_out), requires_grad=False)\n\n# \uc55e\uc5d0\uc11c \uc815\uc758\ud55c \ud074\ub798\uc2a4\ub97c \uc0dd\uc131(Instantiating)\ud574\uc11c \ubaa8\ub378\uc744 \uad6c\uc131\ud569\ub2c8\ub2e4.\nmodel = TwoLayerNet(D_in, H, D_out)\n\n# \uc190\uc2e4\ud568\uc218\uc640 Optimizer\ub97c \ub9cc\ub4ed\ub2c8\ub2e4. SGD \uc0dd\uc131\uc790\uc5d0\uc11c model.parameters()\ub97c \ud638\ucd9c\ud558\uba74\n# \ubaa8\ub378\uc758 \uba64\ubc84\uc778 2\uac1c\uc758 nnLinear \ubaa8\ub4c8\uc758 \ud559\uc2b5 \uac00\ub2a5\ud55c \ub9e4\uac1c\ubcc0\uc218\ub4e4\uc774 \ud3ec\ud568\ub429\ub2c8\ub2e4.\ncriterion = torch.nn.MSELoss(size_average=False)\noptimizer = torch.optim.SGD(model.parameters(), lr=1e-4)\nfor t in range(500):\n    # \uc21c\uc804\ud30c \ub2e8\uacc4: \ubaa8\ub378\uc5d0 x\ub97c \uc804\ub2ec\ud558\uc5ec \uc608\uc0c1\ud558\ub294 y \uac12\uc744 \uacc4\uc0b0\ud569\ub2c8\ub2e4.\n    y_pred = model(x)\n\n    # \uc190\uc2e4\uc744 \uacc4\uc0b0\ud558\uace0 \ucd9c\ub825\ud569\ub2c8\ub2e4.\n    loss = criterion(y_pred, y)\n    print(t, loss.data[0])\n\n    # \ubcc0\ud654\ub3c4\ub97c 0\uc73c\ub85c \ub9cc\ub4e4\uace0, \uc5ed\uc804\ud30c \ub2e8\uacc4\ub97c \uc218\ud589\ud558\uace0, \uac00\uc911\uce58\ub97c \uac31\uc2e0\ud569\ub2c8\ub2e4.\n    optimizer.zero_grad()\n    loss.backward()\n    optimizer.step()"
      ]
    }
  ],
  "metadata": {
    "kernelspec": {
      "display_name": "Python 3",
      "language": "python",
      "name": "python3"
    },
    "language_info": {
      "codemirror_mode": {
        "name": "ipython",
        "version": 3
      },
      "file_extension": ".py",
      "mimetype": "text/x-python",
      "name": "python",
      "nbconvert_exporter": "python",
      "pygments_lexer": "ipython3",
      "version": "3.6.0"
    }
  },
  "nbformat": 4,
  "nbformat_minor": 0
}